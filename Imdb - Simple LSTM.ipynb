{
 "cells": [
  {
   "cell_type": "markdown",
   "metadata": {},
   "source": [
    "# IMDB movie review sentiment example\n",
    "\n",
    "Build a quick LSTM model to learn whether a movie review is positive or negative using nutshell library\n",
    "\n",
    "Validation accuracy: 87.2%"
   ]
  },
  {
   "cell_type": "code",
   "execution_count": 1,
   "metadata": {
    "collapsed": true
   },
   "outputs": [
    {
     "name": "stderr",
     "output_type": "stream",
     "text": [
      "Using TensorFlow backend.\n",
      "/home/ubuntu/anaconda3/lib/python3.6/importlib/_bootstrap.py:219: RuntimeWarning: compiletime version 3.5 of module 'tensorflow.python.framework.fast_tensor_util' does not match runtime version 3.6\n",
      "  return f(*args, **kwds)\n"
     ]
    }
   ],
   "source": [
    "import pandas as pd\n",
    "import numpy as np\n",
    "\n",
    "from nutshell import ModelData, Learner, TextReader"
   ]
  },
  {
   "cell_type": "markdown",
   "metadata": {},
   "source": [
    "## Parse movie review txt files into lists of words"
   ]
  },
  {
   "cell_type": "code",
   "execution_count": 2,
   "metadata": {},
   "outputs": [
    {
     "name": "stdout",
     "output_type": "stream",
     "text": [
      "Parsed 25000 reviews\n"
     ]
    }
   ],
   "source": [
    "# read imdb movie review files into a list\n",
    "\n",
    "# download data from github - https://github.com/jalbertbowden/large-movie-reviews-dataset/tree/master/acl-imdb-v1\n",
    "# copy train & test subdirectories to this directory\n",
    "\n",
    "reader = TextReader()\n",
    "pos_texts = reader.read_text_files('./train/pos/*.txt')\n",
    "neg_texts = reader.read_text_files('./train/neg/*.txt')\n",
    "\n",
    "texts = pos_texts + neg_texts\n",
    "labels = ([1] * len(pos_texts)) + ([0] * len(neg_texts))\n",
    "\n",
    "# search and replace these values in each review\n",
    "# treat periods and commas like words and strip off some characters\n",
    "replacements = {'<br />': '', '\"': '', '(': '( ',')': ' )', \"'s \": \" 's \",\n",
    "                '?': ' ? ', '-': ' ', ', ': ' , ', '. ': ' . ', '*': ''}\n",
    "\n",
    "for i in range(0,len(texts)):\n",
    "    texts[i] = texts[i].lower()\n",
    "    texts[i] = reader.multi_replace(texts[i], replacements)\n",
    "        \n",
    "# parse review text into lists of words (delimited by \" \")\n",
    "\n",
    "word_lists = []\n",
    "for text in texts:\n",
    "    word_list = text.split(' ')\n",
    "    if len(word_list) > 1:\n",
    "        word_lists.append(word_list)\n",
    "\n",
    "print('Parsed', len(word_lists), 'reviews')   \n",
    "        "
   ]
  },
  {
   "cell_type": "markdown",
   "metadata": {},
   "source": [
    "## Format data for building a simple LSTM for classification\n",
    "### - one that is able to predict whether the review sentiment is positive or negative\n",
    "\n",
    "- The single input is a list of word token ids\n",
    " - The words in the review were tokenized in the prepare_data \n",
    "- The label is a 1 for positive and 0 for negative\n",
    "- The model will output a floating point number between 0 and 1\n",
    " - Values >= .5 can be considered positive reviews\n"
   ]
  },
  {
   "cell_type": "code",
   "execution_count": 3,
   "metadata": {},
   "outputs": [
    {
     "name": "stdout",
     "output_type": "stream",
     "text": [
      "Tokenizing category columns...\n",
      "words 153820 unique values\n",
      "Done preparing data\n"
     ]
    }
   ],
   "source": [
    "dfInput = pd.DataFrame()\n",
    "dfInput['words'] = word_lists\n",
    "dfInput['label'] = labels\n",
    "data = ModelData(dfInput)\n",
    "data.category_columns = ['words'] # indicates the contents are categories, not numeric values\n",
    "data.sequence_columns = ['words'] # indicates the column contains a list of category values\n",
    "data.label_column = 'label'\n",
    "data.sequence_length = 1000 # almost all reviews are < 1000 words\n",
    "data.validation_split = .10 \n",
    "data.prepare_data()   "
   ]
  },
  {
   "cell_type": "code",
   "execution_count": 4,
   "metadata": {},
   "outputs": [
    {
     "name": "stdout",
     "output_type": "stream",
     "text": [
      "Training examples: 22500\n",
      "Validation examples: 2500\n"
     ]
    }
   ],
   "source": [
    "data.split_data(shuffle=True)"
   ]
  },
  {
   "cell_type": "markdown",
   "metadata": {},
   "source": [
    "## Define Keras Model\n",
    "\n",
    "Learner object will choose LSTM/Dropout layer sets for the sequential inputs"
   ]
  },
  {
   "cell_type": "code",
   "execution_count": 7,
   "metadata": {},
   "outputs": [
    {
     "name": "stdout",
     "output_type": "stream",
     "text": [
      "Sequential Merge Layer Shape:  (?, 1000, 50)\n",
      "_________________________________________________________________\n",
      "Layer (type)                 Output Shape              Param #   \n",
      "=================================================================\n",
      "input_words (InputLayer)     (None, 1000)              0         \n",
      "_________________________________________________________________\n",
      "embed_words (Embedding)      (None, 1000, 50)          7691200   \n",
      "_________________________________________________________________\n",
      "lstm_0 (LSTM)                (None, 1000, 256)         314368    \n",
      "_________________________________________________________________\n",
      "lstm_dropout_0 (Dropout)     (None, 1000, 256)         0         \n",
      "_________________________________________________________________\n",
      "lstm_1 (LSTM)                (None, 1000, 256)         525312    \n",
      "_________________________________________________________________\n",
      "lstm_dropout_1 (Dropout)     (None, 1000, 256)         0         \n",
      "_________________________________________________________________\n",
      "lstm_timedist (TimeDistribut (None, 1000, 256)         65792     \n",
      "_________________________________________________________________\n",
      "lstm_reshape (Reshape)       (None, 256000)            0         \n",
      "_________________________________________________________________\n",
      "dense_representation (Dense) (None, 50)                12800050  \n",
      "_________________________________________________________________\n",
      "dense_output (Dense)         (None, 1)                 51        \n",
      "=================================================================\n",
      "Total params: 21,396,773\n",
      "Trainable params: 21,396,773\n",
      "Non-trainable params: 0\n",
      "_________________________________________________________________\n",
      "None\n"
     ]
    }
   ],
   "source": [
    "# build model\n",
    "learner = Learner(data)\n",
    "learner.hidden_layers = 2 # number of lstm/dropout layer pairs\n",
    "learner.dropout_rate = .30\n",
    "learner.batch_size = 256\n",
    "learner.lstm_units = 256\n",
    "learner.gpu = True\n",
    "learner.build_model()\n"
   ]
  },
  {
   "cell_type": "code",
   "execution_count": 8,
   "metadata": {},
   "outputs": [
    {
     "name": "stdout",
     "output_type": "stream",
     "text": [
      "Super Epoch: 1\n",
      "Learning Rate: 0.001\n",
      "Train on 22500 samples, validate on 2500 samples\n",
      "Epoch 1/3\n",
      "22500/22500 [==============================] - 355s 16ms/step - loss: 0.6207 - acc: 0.4602 - val_loss: 0.2501 - val_acc: 0.5000\n",
      "Epoch 2/3\n",
      "22500/22500 [==============================] - 355s 16ms/step - loss: 0.2527 - acc: 0.5001 - val_loss: 0.2500 - val_acc: 0.5004\n",
      "Epoch 3/3\n",
      "22500/22500 [==============================] - 355s 16ms/step - loss: 0.2511 - acc: 0.5089 - val_loss: 0.2389 - val_acc: 0.6984\n"
     ]
    }
   ],
   "source": [
    "learner.train_model(filename='imdb_simple', epochs=3)"
   ]
  },
  {
   "cell_type": "code",
   "execution_count": 9,
   "metadata": {},
   "outputs": [
    {
     "name": "stdout",
     "output_type": "stream",
     "text": [
      "Super Epoch: 1\n",
      "Learning Rate: 0.0001\n",
      "Train on 22500 samples, validate on 2500 samples\n",
      "Epoch 1/1\n",
      "22500/22500 [==============================] - 354s 16ms/step - loss: 0.1492 - acc: 0.7885 - val_loss: 0.1106 - val_acc: 0.8720\n"
     ]
    }
   ],
   "source": [
    "learner.train_model(filename='imdb_simple', learning_rate=.0001, epochs=1)"
   ]
  },
  {
   "cell_type": "code",
   "execution_count": null,
   "metadata": {},
   "outputs": [],
   "source": []
  }
 ],
 "metadata": {
  "kernelspec": {
   "display_name": "Python 3",
   "language": "python",
   "name": "python3"
  },
  "language_info": {
   "codemirror_mode": {
    "name": "ipython",
    "version": 3
   },
   "file_extension": ".py",
   "mimetype": "text/x-python",
   "name": "python",
   "nbconvert_exporter": "python",
   "pygments_lexer": "ipython3",
   "version": "3.6.3"
  }
 },
 "nbformat": 4,
 "nbformat_minor": 2
}
